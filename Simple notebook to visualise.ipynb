{
 "cells": [
  {
   "cell_type": "code",
   "execution_count": 79,
   "metadata": {
    "collapsed": false
   },
   "outputs": [],
   "source": [
    "import GradRam as GR\n",
    "\n",
    "import sys\n",
    "import cv2\n",
    "import os\n",
    "\n",
    "import random\n",
    "import numpy as np\n",
    "import keras\n",
    "import pandas as pd\n",
    "\n",
    "import matplotlib.pyplot as plt\n",
    "from matplotlib.pyplot import imshow\n",
    "\n",
    "from keras.preprocessing import image\n",
    "from keras.applications.imagenet_utils import preprocess_input\n",
    "from keras.models import Model\n",
    "from keras.models import model_from_json\n",
    "\n",
    "import keras.backend as K"
   ]
  },
  {
   "cell_type": "code",
   "execution_count": 2,
   "metadata": {
    "collapsed": false
   },
   "outputs": [],
   "source": [
    "from keras.models import load_model\n",
    "model = load_model('20190715-ca357f28-a6df-11e9-b8b2-acde48001122_vgg16.h5')\n",
    "loaded_model=GR.flatten_model(model)"
   ]
  },
  {
   "cell_type": "code",
   "execution_count": 3,
   "metadata": {
    "collapsed": false
   },
   "outputs": [],
   "source": [
    "img_path=\"/image_path/\"\n",
    "allfiles=os.listdir(img_path)\n",
    "scenicImages1=[filename for filename in allfiles1 if  filename[-4:] in [\".jpg\",\".JPG\",\".png\",\".PNG\"]]\n",
    "link = random.choice(scenicImages1)\n",
    "path = img_path1+link"
   ]
  },
  {
   "cell_type": "code",
   "execution_count": null,
   "metadata": {
    "collapsed": false
   },
   "outputs": [],
   "source": [
    "img = GR.load_img(path)\n",
    "heatmap = GR.GradRAM(img,loaded_model)\n",
    "print (loaded_model.predict(img))\n",
    "plt.imshow((img.squeeze()))\n",
    "plt.imshow(heatmap,alpha=0.6)\n",
    "plt.show()"
   ]
  }
 ],
 "metadata": {
  "kernelspec": {
   "display_name": "Python [conda env:py36]",
   "language": "python",
   "name": "conda-env-py36-py"
  },
  "language_info": {
   "codemirror_mode": {
    "name": "ipython",
    "version": 3
   },
   "file_extension": ".py",
   "mimetype": "text/x-python",
   "name": "python",
   "nbconvert_exporter": "python",
   "pygments_lexer": "ipython3",
   "version": "3.6.4"
  }
 },
 "nbformat": 4,
 "nbformat_minor": 2
}
